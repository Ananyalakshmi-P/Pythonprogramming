{
  "cells": [
    {
      "cell_type": "markdown",
      "metadata": {
        "id": "view-in-github",
        "colab_type": "text"
      },
      "source": [
        "<a href=\"https://colab.research.google.com/github/Ananyalakshmi-P/Pythonprogramming/blob/main/timeseries_(1).ipynb\" target=\"_parent\"><img src=\"https://colab.research.google.com/assets/colab-badge.svg\" alt=\"Open In Colab\"/></a>"
      ]
    },
    {
      "cell_type": "code",
      "execution_count": 43,
      "metadata": {
        "id": "RXcsJ1oblDV8"
      },
      "outputs": [],
      "source": [
        "import tensorflow as tf\n",
        "import numpy as np\n",
        "import os\n",
        "import matplotlib as plt"
      ]
    },
    {
      "cell_type": "code",
      "execution_count": 44,
      "metadata": {
        "id": "MXV4pwVLpVg3"
      },
      "outputs": [],
      "source": [
        "def get_data():\n",
        "  data_file = \"/content/station.csv\"\n",
        "  f = open(data_file)\n",
        "  data = f.read()\n",
        "  f.close()\n",
        "  lines = data.split('\\n')\n",
        "  header = lines[0].split(',')\n",
        "  lines = lines[2:]\n",
        "  temperatures=[]\n",
        "  for line in lines:\n",
        "    if line:\n",
        "      linedata = line.split(',')\n",
        "      linedata = linedata[1:13]\n",
        "      for item in linedata:\n",
        "        if item:\n",
        "          temperatures.append(float(item))\n",
        "  series = np.asarray(temperatures)\n",
        "  time = np.arange(len(temperatures), dtype=\"float32\")\n",
        "  return time, series"
      ]
    },
    {
      "cell_type": "code",
      "execution_count": 45,
      "metadata": {
        "id": "70vtRA6gqXza"
      },
      "outputs": [],
      "source": [
        "time, series = get_data()"
      ]
    },
    {
      "cell_type": "code",
      "execution_count": 46,
      "metadata": {
        "id": "2kNMHkkqYGv4"
      },
      "outputs": [],
      "source": [
        "out = np.logical_not(series > 200)\n",
        "series=series[out]\n",
        "time=time[out]"
      ]
    },
    {
      "cell_type": "code",
      "execution_count": 47,
      "metadata": {
        "colab": {
          "base_uri": "https://localhost:8080/"
        },
        "id": "KjvpWj3Nq-5W",
        "outputId": "fc9b8d23-df23-488d-82b9-7a03aaa9350e"
      },
      "outputs": [
        {
          "output_type": "execute_result",
          "data": {
            "text/plain": [
              "657"
            ]
          },
          "metadata": {},
          "execution_count": 47
        }
      ],
      "source": [
        "len(series)"
      ]
    },
    {
      "cell_type": "code",
      "execution_count": 48,
      "metadata": {
        "id": "6x3i1uvzsB8i"
      },
      "outputs": [],
      "source": [
        "mean = series.mean(axis=0)\n",
        "series-=mean\n",
        "std = series.std(axis=0)\n",
        "series/=std"
      ]
    },
    {
      "cell_type": "code",
      "execution_count": 49,
      "metadata": {
        "id": "EuAv2tUvuXt-"
      },
      "outputs": [],
      "source": [
        "#device_name = tf.test.gpu_device_name()"
      ]
    },
    {
      "cell_type": "code",
      "execution_count": 50,
      "metadata": {
        "id": "xzcH5rGJuyu7"
      },
      "outputs": [],
      "source": [
        "split_time = 390\n",
        "time_train = time[:split_time]\n",
        "x_train = series[:split_time]\n",
        "time_valid = time[split_time:]\n",
        "x_valid = series[split_time:]"
      ]
    },
    {
      "cell_type": "code",
      "execution_count": 51,
      "metadata": {
        "id": "QbcwopqA0rTf"
      },
      "outputs": [],
      "source": [
        "window_size = 48\n",
        "batch_size = 12\n",
        "shuffle_buffer_size = 96"
      ]
    },
    {
      "cell_type": "code",
      "execution_count": 52,
      "metadata": {
        "id": "C4Xb8LbI14IN"
      },
      "outputs": [],
      "source": [
        "def windowed_dataset(series, window_size,\n",
        "batch_size, shuffle_buffer):\n",
        "  series = tf.expand_dims(series, axis=-1)\n",
        "  dataset = tf.data.Dataset.from_tensor_slices(series)\n",
        "  dataset = dataset.window(window_size + 1, shift=1,\n",
        "  drop_remainder=True)\n",
        "  dataset = dataset.flat_map(lambda window:window.batch(window_size + 1))\n",
        "  dataset = dataset.shuffle(shuffle_buffer).map(lambda window:(window[:-1], window[-1]))\n",
        "  dataset = dataset.batch(batch_size).prefetch(1)\n",
        "  return dataset"
      ]
    },
    {
      "cell_type": "code",
      "execution_count": 53,
      "metadata": {
        "id": "snIuU0xF2Hql"
      },
      "outputs": [],
      "source": [
        "dataset = windowed_dataset(x_train, window_size, batch_size, shuffle_buffer_size)"
      ]
    },
    {
      "cell_type": "code",
      "execution_count": 54,
      "metadata": {
        "id": "WQdbJu3e27DX"
      },
      "outputs": [],
      "source": [
        "valid_dataset = windowed_dataset(x_valid, window_size, batch_size, shuffle_buffer_size)"
      ]
    },
    {
      "cell_type": "code",
      "execution_count": 55,
      "metadata": {
        "id": "7n-PzlO5DlQb"
      },
      "outputs": [],
      "source": [
        "initializer=tf.keras.initializers.RandomNormal(mean=0., stddev=1.)"
      ]
    },
    {
      "cell_type": "code",
      "execution_count": 56,
      "metadata": {
        "id": "1xMegkn7BbjB"
      },
      "outputs": [],
      "source": [
        "def model_forecast(model, series, window_size):\n",
        "  series = tf.expand_dims(series, axis=-1)\n",
        "  ds = tf.data.Dataset.from_tensor_slices(series)\n",
        "  ds = ds.window(window_size, shift=1, drop_remainder=True)\n",
        "  ds = ds.flat_map(lambda w: w.batch(window_size))\n",
        "  ds = ds.batch(12).prefetch(1)\n",
        "  forecast = model.predict(ds)\n",
        "  return forecast"
      ]
    },
    {
      "cell_type": "code",
      "execution_count": 57,
      "metadata": {
        "id": "Svkpfw6X-UhE"
      },
      "outputs": [],
      "source": [
        "model = tf.keras.models.Sequential([\n",
        "tf.keras.layers.GRU(100, input_shape=[None, 1], return_sequences=True, kernel_initializer=initializer),\n",
        "tf.keras.layers.GRU(units=100, kernel_initializer=initializer),\n",
        "tf.keras.layers.Dense(1),\n",
        "])\n",
        "model.compile(loss=tf.keras.losses.Huber(), optimizer=tf.keras.optimizers.SGD(learning_rate = 1.5e-6, momentum = 0.5),\n",
        "              metrics=['mae'])"
      ]
    },
    {
      "cell_type": "code",
      "execution_count": 58,
      "metadata": {
        "colab": {
          "base_uri": "https://localhost:8080/"
        },
        "id": "oBHTAOCc_roR",
        "outputId": "822fc2c1-241f-47bc-b56b-d18e1d76fef2"
      },
      "outputs": [
        {
          "output_type": "stream",
          "name": "stdout",
          "text": [
            "Epoch 1/100\n",
            "29/29 [==============================] - 8s 107ms/step - loss: 1.3580 - mae: 1.8119 - val_loss: 1.4273 - val_mae: 1.8765\n",
            "Epoch 2/100\n",
            "29/29 [==============================] - 2s 76ms/step - loss: 1.3540 - mae: 1.8077 - val_loss: 1.4227 - val_mae: 1.8716\n",
            "Epoch 3/100\n",
            "29/29 [==============================] - 2s 75ms/step - loss: 1.3499 - mae: 1.8035 - val_loss: 1.4181 - val_mae: 1.8668\n",
            "Epoch 4/100\n",
            "29/29 [==============================] - 3s 118ms/step - loss: 1.3459 - mae: 1.7993 - val_loss: 1.4136 - val_mae: 1.8620\n",
            "Epoch 5/100\n",
            "29/29 [==============================] - 2s 76ms/step - loss: 1.3419 - mae: 1.7952 - val_loss: 1.4091 - val_mae: 1.8573\n",
            "Epoch 6/100\n",
            "29/29 [==============================] - 2s 75ms/step - loss: 1.3378 - mae: 1.7911 - val_loss: 1.4045 - val_mae: 1.8525\n",
            "Epoch 7/100\n",
            "29/29 [==============================] - 2s 75ms/step - loss: 1.3338 - mae: 1.7870 - val_loss: 1.4000 - val_mae: 1.8477\n",
            "Epoch 8/100\n",
            "29/29 [==============================] - 2s 76ms/step - loss: 1.3298 - mae: 1.7829 - val_loss: 1.3955 - val_mae: 1.8430\n",
            "Epoch 9/100\n",
            "29/29 [==============================] - 3s 120ms/step - loss: 1.3259 - mae: 1.7789 - val_loss: 1.3910 - val_mae: 1.8382\n",
            "Epoch 10/100\n",
            "29/29 [==============================] - 2s 77ms/step - loss: 1.3219 - mae: 1.7749 - val_loss: 1.3866 - val_mae: 1.8335\n",
            "Epoch 11/100\n",
            "29/29 [==============================] - 2s 77ms/step - loss: 1.3180 - mae: 1.7708 - val_loss: 1.3821 - val_mae: 1.8287\n",
            "Epoch 12/100\n",
            "29/29 [==============================] - 2s 77ms/step - loss: 1.3140 - mae: 1.7668 - val_loss: 1.3777 - val_mae: 1.8241\n",
            "Epoch 13/100\n",
            "29/29 [==============================] - 3s 112ms/step - loss: 1.3101 - mae: 1.7628 - val_loss: 1.3733 - val_mae: 1.8194\n",
            "Epoch 14/100\n",
            "29/29 [==============================] - 2s 79ms/step - loss: 1.3062 - mae: 1.7589 - val_loss: 1.3689 - val_mae: 1.8147\n",
            "Epoch 15/100\n",
            "29/29 [==============================] - 2s 76ms/step - loss: 1.3023 - mae: 1.7549 - val_loss: 1.3645 - val_mae: 1.8101\n",
            "Epoch 16/100\n",
            "29/29 [==============================] - 2s 76ms/step - loss: 1.2985 - mae: 1.7510 - val_loss: 1.3601 - val_mae: 1.8054\n",
            "Epoch 17/100\n",
            "29/29 [==============================] - 2s 75ms/step - loss: 1.2946 - mae: 1.7470 - val_loss: 1.3557 - val_mae: 1.8008\n",
            "Epoch 18/100\n",
            "29/29 [==============================] - 3s 118ms/step - loss: 1.2907 - mae: 1.7431 - val_loss: 1.3514 - val_mae: 1.7962\n",
            "Epoch 19/100\n",
            "29/29 [==============================] - 2s 78ms/step - loss: 1.2869 - mae: 1.7391 - val_loss: 1.3471 - val_mae: 1.7915\n",
            "Epoch 20/100\n",
            "29/29 [==============================] - 2s 76ms/step - loss: 1.2830 - mae: 1.7352 - val_loss: 1.3428 - val_mae: 1.7869\n",
            "Epoch 21/100\n",
            "29/29 [==============================] - 2s 76ms/step - loss: 1.2792 - mae: 1.7313 - val_loss: 1.3385 - val_mae: 1.7824\n",
            "Epoch 22/100\n",
            "29/29 [==============================] - 3s 110ms/step - loss: 1.2754 - mae: 1.7274 - val_loss: 1.3342 - val_mae: 1.7778\n",
            "Epoch 23/100\n",
            "29/29 [==============================] - 2s 75ms/step - loss: 1.2716 - mae: 1.7234 - val_loss: 1.3299 - val_mae: 1.7733\n",
            "Epoch 24/100\n",
            "29/29 [==============================] - 2s 76ms/step - loss: 1.2678 - mae: 1.7196 - val_loss: 1.3257 - val_mae: 1.7687\n",
            "Epoch 25/100\n",
            "29/29 [==============================] - 2s 75ms/step - loss: 1.2641 - mae: 1.7157 - val_loss: 1.3214 - val_mae: 1.7642\n",
            "Epoch 26/100\n",
            "29/29 [==============================] - 3s 108ms/step - loss: 1.2604 - mae: 1.7118 - val_loss: 1.3172 - val_mae: 1.7599\n",
            "Epoch 27/100\n",
            "29/29 [==============================] - 2s 76ms/step - loss: 1.2566 - mae: 1.7079 - val_loss: 1.3130 - val_mae: 1.7554\n",
            "Epoch 28/100\n",
            "29/29 [==============================] - 2s 75ms/step - loss: 1.2529 - mae: 1.7041 - val_loss: 1.3088 - val_mae: 1.7510\n",
            "Epoch 29/100\n",
            "29/29 [==============================] - 2s 76ms/step - loss: 1.2492 - mae: 1.7003 - val_loss: 1.3047 - val_mae: 1.7467\n",
            "Epoch 30/100\n",
            "29/29 [==============================] - 3s 99ms/step - loss: 1.2455 - mae: 1.6964 - val_loss: 1.3005 - val_mae: 1.7423\n",
            "Epoch 31/100\n",
            "29/29 [==============================] - 2s 75ms/step - loss: 1.2418 - mae: 1.6926 - val_loss: 1.2963 - val_mae: 1.7379\n",
            "Epoch 32/100\n",
            "29/29 [==============================] - 2s 76ms/step - loss: 1.2382 - mae: 1.6888 - val_loss: 1.2922 - val_mae: 1.7336\n",
            "Epoch 33/100\n",
            "29/29 [==============================] - 2s 76ms/step - loss: 1.2345 - mae: 1.6849 - val_loss: 1.2881 - val_mae: 1.7292\n",
            "Epoch 34/100\n",
            "29/29 [==============================] - 3s 90ms/step - loss: 1.2308 - mae: 1.6811 - val_loss: 1.2840 - val_mae: 1.7249\n",
            "Epoch 35/100\n",
            "29/29 [==============================] - 2s 75ms/step - loss: 1.2272 - mae: 1.6773 - val_loss: 1.2799 - val_mae: 1.7206\n",
            "Epoch 36/100\n",
            "29/29 [==============================] - 2s 74ms/step - loss: 1.2236 - mae: 1.6735 - val_loss: 1.2758 - val_mae: 1.7163\n",
            "Epoch 37/100\n",
            "29/29 [==============================] - 2s 76ms/step - loss: 1.2199 - mae: 1.6698 - val_loss: 1.2717 - val_mae: 1.7119\n",
            "Epoch 38/100\n",
            "29/29 [==============================] - 3s 97ms/step - loss: 1.2163 - mae: 1.6659 - val_loss: 1.2676 - val_mae: 1.7076\n",
            "Epoch 39/100\n",
            "29/29 [==============================] - 3s 95ms/step - loss: 1.2127 - mae: 1.6622 - val_loss: 1.2636 - val_mae: 1.7033\n",
            "Epoch 40/100\n",
            "29/29 [==============================] - 2s 77ms/step - loss: 1.2092 - mae: 1.6584 - val_loss: 1.2596 - val_mae: 1.6990\n",
            "Epoch 41/100\n",
            "29/29 [==============================] - 2s 75ms/step - loss: 1.2056 - mae: 1.6547 - val_loss: 1.2556 - val_mae: 1.6947\n",
            "Epoch 42/100\n",
            "29/29 [==============================] - 2s 75ms/step - loss: 1.2020 - mae: 1.6510 - val_loss: 1.2516 - val_mae: 1.6905\n",
            "Epoch 43/100\n",
            "29/29 [==============================] - 3s 87ms/step - loss: 1.1985 - mae: 1.6474 - val_loss: 1.2476 - val_mae: 1.6863\n",
            "Epoch 44/100\n",
            "29/29 [==============================] - 3s 104ms/step - loss: 1.1949 - mae: 1.6437 - val_loss: 1.2436 - val_mae: 1.6821\n",
            "Epoch 45/100\n",
            "29/29 [==============================] - 2s 76ms/step - loss: 1.1914 - mae: 1.6400 - val_loss: 1.2396 - val_mae: 1.6779\n",
            "Epoch 46/100\n",
            "29/29 [==============================] - 2s 76ms/step - loss: 1.1879 - mae: 1.6364 - val_loss: 1.2357 - val_mae: 1.6737\n",
            "Epoch 47/100\n",
            "29/29 [==============================] - 2s 76ms/step - loss: 1.1844 - mae: 1.6327 - val_loss: 1.2317 - val_mae: 1.6695\n",
            "Epoch 48/100\n",
            "29/29 [==============================] - 4s 128ms/step - loss: 1.1809 - mae: 1.6291 - val_loss: 1.2278 - val_mae: 1.6653\n",
            "Epoch 49/100\n",
            "29/29 [==============================] - 2s 76ms/step - loss: 1.1775 - mae: 1.6255 - val_loss: 1.2240 - val_mae: 1.6612\n",
            "Epoch 50/100\n",
            "29/29 [==============================] - 3s 114ms/step - loss: 1.1740 - mae: 1.6219 - val_loss: 1.2201 - val_mae: 1.6572\n",
            "Epoch 51/100\n",
            "29/29 [==============================] - 2s 84ms/step - loss: 1.1706 - mae: 1.6183 - val_loss: 1.2162 - val_mae: 1.6531\n",
            "Epoch 52/100\n",
            "29/29 [==============================] - 3s 112ms/step - loss: 1.1671 - mae: 1.6147 - val_loss: 1.2123 - val_mae: 1.6491\n",
            "Epoch 53/100\n",
            "29/29 [==============================] - 2s 76ms/step - loss: 1.1637 - mae: 1.6111 - val_loss: 1.2084 - val_mae: 1.6451\n",
            "Epoch 54/100\n",
            "29/29 [==============================] - 2s 77ms/step - loss: 1.1602 - mae: 1.6075 - val_loss: 1.2046 - val_mae: 1.6411\n",
            "Epoch 55/100\n",
            "29/29 [==============================] - 2s 76ms/step - loss: 1.1568 - mae: 1.6040 - val_loss: 1.2007 - val_mae: 1.6371\n",
            "Epoch 56/100\n",
            "29/29 [==============================] - 2s 77ms/step - loss: 1.1534 - mae: 1.6004 - val_loss: 1.1969 - val_mae: 1.6332\n",
            "Epoch 57/100\n",
            "29/29 [==============================] - 3s 111ms/step - loss: 1.1501 - mae: 1.5969 - val_loss: 1.1931 - val_mae: 1.6292\n",
            "Epoch 58/100\n",
            "29/29 [==============================] - 2s 76ms/step - loss: 1.1467 - mae: 1.5935 - val_loss: 1.1894 - val_mae: 1.6254\n",
            "Epoch 59/100\n",
            "29/29 [==============================] - 2s 76ms/step - loss: 1.1434 - mae: 1.5900 - val_loss: 1.1856 - val_mae: 1.6214\n",
            "Epoch 60/100\n",
            "29/29 [==============================] - 2s 77ms/step - loss: 1.1401 - mae: 1.5865 - val_loss: 1.1819 - val_mae: 1.6176\n",
            "Epoch 61/100\n",
            "29/29 [==============================] - 3s 89ms/step - loss: 1.1367 - mae: 1.5831 - val_loss: 1.1781 - val_mae: 1.6137\n",
            "Epoch 62/100\n",
            "29/29 [==============================] - 2s 77ms/step - loss: 1.1334 - mae: 1.5797 - val_loss: 1.1744 - val_mae: 1.6098\n",
            "Epoch 63/100\n",
            "29/29 [==============================] - 2s 77ms/step - loss: 1.1301 - mae: 1.5764 - val_loss: 1.1707 - val_mae: 1.6060\n",
            "Epoch 64/100\n",
            "29/29 [==============================] - 2s 78ms/step - loss: 1.1268 - mae: 1.5730 - val_loss: 1.1670 - val_mae: 1.6022\n",
            "Epoch 65/100\n",
            "29/29 [==============================] - 3s 109ms/step - loss: 1.1235 - mae: 1.5697 - val_loss: 1.1633 - val_mae: 1.5983\n",
            "Epoch 66/100\n",
            "29/29 [==============================] - 2s 81ms/step - loss: 1.1203 - mae: 1.5663 - val_loss: 1.1596 - val_mae: 1.5945\n",
            "Epoch 67/100\n",
            "29/29 [==============================] - 2s 76ms/step - loss: 1.1170 - mae: 1.5630 - val_loss: 1.1559 - val_mae: 1.5907\n",
            "Epoch 68/100\n",
            "29/29 [==============================] - 2s 77ms/step - loss: 1.1138 - mae: 1.5597 - val_loss: 1.1523 - val_mae: 1.5869\n",
            "Epoch 69/100\n",
            "29/29 [==============================] - 3s 104ms/step - loss: 1.1106 - mae: 1.5563 - val_loss: 1.1487 - val_mae: 1.5832\n",
            "Epoch 70/100\n",
            "29/29 [==============================] - 2s 78ms/step - loss: 1.1074 - mae: 1.5531 - val_loss: 1.1451 - val_mae: 1.5794\n",
            "Epoch 71/100\n",
            "29/29 [==============================] - 2s 76ms/step - loss: 1.1042 - mae: 1.5499 - val_loss: 1.1415 - val_mae: 1.5758\n",
            "Epoch 72/100\n",
            "29/29 [==============================] - 2s 77ms/step - loss: 1.1011 - mae: 1.5466 - val_loss: 1.1380 - val_mae: 1.5721\n",
            "Epoch 73/100\n",
            "29/29 [==============================] - 3s 115ms/step - loss: 1.0979 - mae: 1.5434 - val_loss: 1.1344 - val_mae: 1.5685\n",
            "Epoch 74/100\n",
            "29/29 [==============================] - 2s 78ms/step - loss: 1.0948 - mae: 1.5401 - val_loss: 1.1309 - val_mae: 1.5648\n",
            "Epoch 75/100\n",
            "29/29 [==============================] - 2s 75ms/step - loss: 1.0916 - mae: 1.5369 - val_loss: 1.1273 - val_mae: 1.5612\n",
            "Epoch 76/100\n",
            "29/29 [==============================] - 2s 77ms/step - loss: 1.0885 - mae: 1.5337 - val_loss: 1.1238 - val_mae: 1.5576\n",
            "Epoch 77/100\n",
            "29/29 [==============================] - 2s 76ms/step - loss: 1.0854 - mae: 1.5305 - val_loss: 1.1203 - val_mae: 1.5541\n",
            "Epoch 78/100\n",
            "29/29 [==============================] - 3s 116ms/step - loss: 1.0822 - mae: 1.5272 - val_loss: 1.1167 - val_mae: 1.5504\n",
            "Epoch 79/100\n",
            "29/29 [==============================] - 2s 77ms/step - loss: 1.0791 - mae: 1.5241 - val_loss: 1.1132 - val_mae: 1.5469\n",
            "Epoch 80/100\n",
            "29/29 [==============================] - 2s 77ms/step - loss: 1.0761 - mae: 1.5209 - val_loss: 1.1097 - val_mae: 1.5434\n",
            "Epoch 81/100\n",
            "29/29 [==============================] - 2s 78ms/step - loss: 1.0730 - mae: 1.5178 - val_loss: 1.1063 - val_mae: 1.5400\n",
            "Epoch 82/100\n",
            "29/29 [==============================] - 3s 120ms/step - loss: 1.0700 - mae: 1.5146 - val_loss: 1.1029 - val_mae: 1.5366\n",
            "Epoch 83/100\n",
            "29/29 [==============================] - 2s 76ms/step - loss: 1.0669 - mae: 1.5115 - val_loss: 1.0994 - val_mae: 1.5331\n",
            "Epoch 84/100\n",
            "29/29 [==============================] - 2s 76ms/step - loss: 1.0639 - mae: 1.5083 - val_loss: 1.0960 - val_mae: 1.5297\n",
            "Epoch 85/100\n",
            "29/29 [==============================] - 2s 76ms/step - loss: 1.0608 - mae: 1.5052 - val_loss: 1.0926 - val_mae: 1.5262\n",
            "Epoch 86/100\n",
            "29/29 [==============================] - 3s 109ms/step - loss: 1.0578 - mae: 1.5021 - val_loss: 1.0892 - val_mae: 1.5228\n",
            "Epoch 87/100\n",
            "29/29 [==============================] - 3s 85ms/step - loss: 1.0549 - mae: 1.4990 - val_loss: 1.0858 - val_mae: 1.5193\n",
            "Epoch 88/100\n",
            "29/29 [==============================] - 2s 77ms/step - loss: 1.0518 - mae: 1.4959 - val_loss: 1.0824 - val_mae: 1.5159\n",
            "Epoch 89/100\n",
            "29/29 [==============================] - 2s 78ms/step - loss: 1.0489 - mae: 1.4928 - val_loss: 1.0790 - val_mae: 1.5125\n",
            "Epoch 90/100\n",
            "29/29 [==============================] - 2s 78ms/step - loss: 1.0459 - mae: 1.4897 - val_loss: 1.0757 - val_mae: 1.5091\n",
            "Epoch 91/100\n",
            "29/29 [==============================] - 3s 103ms/step - loss: 1.0430 - mae: 1.4867 - val_loss: 1.0724 - val_mae: 1.5057\n",
            "Epoch 92/100\n",
            "29/29 [==============================] - 2s 76ms/step - loss: 1.0400 - mae: 1.4836 - val_loss: 1.0690 - val_mae: 1.5023\n",
            "Epoch 93/100\n",
            "29/29 [==============================] - 2s 76ms/step - loss: 1.0371 - mae: 1.4806 - val_loss: 1.0657 - val_mae: 1.4988\n",
            "Epoch 94/100\n",
            "29/29 [==============================] - 2s 76ms/step - loss: 1.0342 - mae: 1.4775 - val_loss: 1.0624 - val_mae: 1.4954\n",
            "Epoch 95/100\n",
            "29/29 [==============================] - 3s 101ms/step - loss: 1.0313 - mae: 1.4745 - val_loss: 1.0591 - val_mae: 1.4921\n",
            "Epoch 96/100\n",
            "29/29 [==============================] - 3s 89ms/step - loss: 1.0284 - mae: 1.4715 - val_loss: 1.0558 - val_mae: 1.4887\n",
            "Epoch 97/100\n",
            "29/29 [==============================] - 2s 77ms/step - loss: 1.0255 - mae: 1.4685 - val_loss: 1.0526 - val_mae: 1.4853\n",
            "Epoch 98/100\n",
            "29/29 [==============================] - 2s 76ms/step - loss: 1.0226 - mae: 1.4656 - val_loss: 1.0494 - val_mae: 1.4820\n",
            "Epoch 99/100\n",
            "29/29 [==============================] - 2s 77ms/step - loss: 1.0198 - mae: 1.4627 - val_loss: 1.0462 - val_mae: 1.4787\n",
            "Epoch 100/100\n",
            "29/29 [==============================] - 3s 108ms/step - loss: 1.0170 - mae: 1.4597 - val_loss: 1.0429 - val_mae: 1.4753\n"
          ]
        }
      ],
      "source": [
        "history = model.fit(dataset, epochs=100, verbose=1, validation_data=valid_dataset)"
      ]
    },
    {
      "cell_type": "code",
      "execution_count": 61,
      "metadata": {
        "colab": {
          "base_uri": "https://localhost:8080/"
        },
        "id": "D3SiPbcpCntN",
        "outputId": "0b515fa8-7052-4570-988c-a523f1b0fbb5"
      },
      "outputs": [
        {
          "output_type": "stream",
          "name": "stdout",
          "text": [
            "51/51 [==============================] - 2s 25ms/step\n"
          ]
        }
      ],
      "source": [
        "forecast = model_forecast(model, series[..., np.newaxis], window_size)"
      ]
    },
    {
      "cell_type": "code",
      "execution_count": 62,
      "metadata": {
        "id": "I3BitrvmO87X"
      },
      "outputs": [],
      "source": [
        "forecast*=std\n",
        "forecast+=mean\n",
        "x_valid*=std\n",
        "x_valid+=mean"
      ]
    },
    {
      "cell_type": "code",
      "execution_count": 63,
      "metadata": {
        "colab": {
          "base_uri": "https://localhost:8080/"
        },
        "id": "4tKyU0l7x3E7",
        "outputId": "b015b4b6-3b26-49b7-b370-323125bf27e3"
      },
      "outputs": [
        {
          "output_type": "execute_result",
          "data": {
            "text/plain": [
              "610"
            ]
          },
          "metadata": {},
          "execution_count": 63
        }
      ],
      "source": [
        "len(forecast)"
      ]
    },
    {
      "cell_type": "code",
      "execution_count": 64,
      "metadata": {
        "id": "iYNg4MTyHeL2"
      },
      "outputs": [],
      "source": [
        "forecast = forecast[split_time-window_size+1:]"
      ]
    },
    {
      "cell_type": "code",
      "execution_count": 65,
      "metadata": {
        "colab": {
          "base_uri": "https://localhost:8080/"
        },
        "id": "wG01fuwcAsJX",
        "outputId": "b8fcfeca-530f-4068-9772-1607d68662ce"
      },
      "outputs": [
        {
          "output_type": "execute_result",
          "data": {
            "text/plain": [
              "array([32.440437], dtype=float32)"
            ]
          },
          "metadata": {},
          "execution_count": 65
        }
      ],
      "source": [
        "forecast[0]"
      ]
    },
    {
      "cell_type": "code",
      "execution_count": 66,
      "metadata": {
        "id": "FlvJ3ME3HwLD"
      },
      "outputs": [],
      "source": [
        "results = np.array(forecast)[:, 0]"
      ]
    },
    {
      "cell_type": "code",
      "execution_count": 67,
      "metadata": {
        "id": "kphkegodIOFN"
      },
      "outputs": [],
      "source": [
        "def plot_series(time, series, format=\"-\", start=0, end=None):\n",
        "  plt.plot(time[start:end], series[start:end], format)\n",
        "  plt.xlabel(\"Time\")\n",
        "  plt.ylabel(\"Value\")\n",
        "  plt.grid(True)"
      ]
    },
    {
      "cell_type": "code",
      "execution_count": 68,
      "metadata": {
        "colab": {
          "base_uri": "https://localhost:8080/",
          "height": 52
        },
        "id": "funDcrcJJXJP",
        "outputId": "b5398145-246b-4ca5-a6df-07c191eef42d"
      },
      "outputs": [
        {
          "output_type": "execute_result",
          "data": {
            "text/plain": [
              "<Figure size 1000x600 with 0 Axes>"
            ]
          },
          "metadata": {},
          "execution_count": 68
        },
        {
          "output_type": "display_data",
          "data": {
            "text/plain": [
              "<Figure size 1000x600 with 0 Axes>"
            ]
          },
          "metadata": {}
        }
      ],
      "source": [
        "from matplotlib import pyplot as plt\n",
        "plt.figure(figsize=(10, 6))"
      ]
    },
    {
      "cell_type": "code",
      "execution_count": 69,
      "metadata": {
        "colab": {
          "base_uri": "https://localhost:8080/",
          "height": 449
        },
        "id": "DtEnfeWCKpSG",
        "outputId": "b3daa1c3-2086-4168-d51f-30669c048080"
      },
      "outputs": [
        {
          "output_type": "display_data",
          "data": {
            "text/plain": [
              "<Figure size 640x480 with 1 Axes>"
            ],
            "image/png": "[encoded data removed]"
          },
          "metadata": {}
        }
      ],
      "source": [
        "plot_series(time_valid, x_valid)\n",
        "plot_series(time_valid, results)"
      ]
    },
    {
      "cell_type": "code",
      "execution_count": 70,
      "metadata": {
        "colab": {
          "base_uri": "https://localhost:8080/"
        },
        "id": "a3Uti9zvLv_9",
        "outputId": "1f21f3b5-5609-41a3-c4df-08c3ab6462b8"
      },
      "outputs": [
        {
          "output_type": "execute_result",
          "data": {
            "text/plain": [
              "267"
            ]
          },
          "metadata": {},
          "execution_count": 70
        }
      ],
      "source": [
        "len(time_valid)"
      ]
    },
    {
      "cell_type": "code",
      "execution_count": 71,
      "metadata": {
        "colab": {
          "base_uri": "https://localhost:8080/"
        },
        "id": "lXdZwpLzOOH4",
        "outputId": "6758ded8-6804-4d48-cc70-0fa04321252d"
      },
      "outputs": [
        {
          "output_type": "stream",
          "name": "stdout",
          "text": [
            "9.996898\n",
            "2.672299\n"
          ]
        }
      ],
      "source": [
        "print(tf.keras.metrics.mean_squared_error(x_valid, results).numpy())\n",
        "print(tf.keras.metrics.mean_absolute_error(x_valid, results).numpy())"
      ]
    },
    {
      "cell_type": "code",
      "execution_count": 72,
      "metadata": {
        "id": "fXA2gI0ezZZd"
      },
      "outputs": [],
      "source": [
        "model.save('./drive/MyDrive/timeseries_tuned.h5')"
      ]
    },
    {
      "cell_type": "code",
      "execution_count": 73,
      "metadata": {
        "id": "2a2fnsnu5FVV"
      },
      "outputs": [],
      "source": [
        "model = tf.keras.models.load_model('./drive/MyDrive/timeseries_tuned.h5')"
      ]
    },
    {
      "cell_type": "code",
      "execution_count": 74,
      "metadata": {
        "colab": {
          "base_uri": "https://localhost:8080/"
        },
        "id": "L1Ply3ql3zWQ",
        "outputId": "3aab6ec0-8836-4baf-8610-fb07ebc3744b"
      },
      "outputs": [
        {
          "output_type": "stream",
          "name": "stdout",
          "text": [
            "Drive already mounted at /content/drive; to attempt to forcibly remount, call drive.mount(\"/content/drive\", force_remount=True).\n"
          ]
        }
      ],
      "source": [
        "from google.colab import drive\n",
        "#drive.flush_and_unmount()\n",
        "drive.mount('/content/drive')"
      ]
    },
    {
      "cell_type": "code",
      "source": [
        "from google.colab import drive\n",
        "drive.mount('/content/drive')"
      ],
      "metadata": {
        "colab": {
          "base_uri": "https://localhost:8080/"
        },
        "id": "llCRk2RSS7y8",
        "outputId": "8e175209-204a-4995-af9d-c31f4a4a19d1"
      },
      "execution_count": 75,
      "outputs": [
        {
          "output_type": "stream",
          "name": "stdout",
          "text": [
            "Drive already mounted at /content/drive; to attempt to forcibly remount, call drive.mount(\"/content/drive\", force_remount=True).\n"
          ]
        }
      ]
    },
    {
      "cell_type": "markdown",
      "metadata": {
        "id": "u_ItpNvf_Afw"
      },
      "source": []
    }
  ],
  "metadata": {
    "colab": {
      "provenance": [],
      "include_colab_link": true
    },
    "gpuClass": "standard",
    "kernelspec": {
      "display_name": "Python 3",
      "name": "python3"
    },
    "language_info": {
      "name": "python"
    }
  },
  "nbformat": 4,
  "nbformat_minor": 0
}